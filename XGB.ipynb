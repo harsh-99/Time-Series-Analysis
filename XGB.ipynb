{
 "cells": [
  {
   "cell_type": "code",
   "execution_count": 54,
   "metadata": {},
   "outputs": [],
   "source": [
    "#Importing Libraraies\n",
    "import numpy as np\n",
    "import matplotlib.pyplot as plt\n",
    "import pandas as pd\n",
    "from xgboost import XGBRegressor\n",
    "from datetime import datetime"
   ]
  },
  {
   "cell_type": "code",
   "execution_count": 55,
   "metadata": {},
   "outputs": [],
   "source": [
    "#User Input Variables\n",
    "index_reader = 1 #Input for Building\n",
    "meter_reading = 'main_meter'#Use 'sub_meter_1' and 'sub_meter_2' for respective readings"
   ]
  },
  {
   "cell_type": "code",
   "execution_count": 56,
   "metadata": {},
   "outputs": [],
   "source": [
    "###Making Files for building \n",
    "train = pd.read_csv('train.csv')\n",
    "test = pd.read_csv('test.csv')\n",
    "train['timestamp'] = pd.to_datetime(train['timestamp'],infer_datetime_format=True)  \n",
    "test['timestamp'] = pd.to_datetime(test['timestamp'],infer_datetime_format=True)  \n",
    "\n",
    "\n",
    "##Creating training files\n",
    "\n",
    "for i in range(1,6):\n",
    "    if(i==1):\n",
    "        df = train[train['building_number']==1]\n",
    "        df.index = df['timestamp']\n",
    "        df = df.resample('1H').mean()\n",
    "        new_df = df\n",
    "    else:\n",
    "        df = train[train['building_number']==i]\n",
    "        df.index = df['timestamp']\n",
    "        df = df.resample('1H').mean()\n",
    "        new_df = pd.concat([new_df,df])\n",
    "    \n",
    "#Adding new features\n",
    "new_df['day of week']=new_df.index.dayofweek \n",
    "new_df['Hour']=new_df.index.hour\n",
    "new_df['corporate'] = new_df['Hour'].apply(lambda x: 0 if 0<= x <= 7 or 20<=x<=23 else 1)\n",
    "new_df = new_df.drop(['Hour'],axis=1)\n",
    " \n",
    "anomaly_mean_main_meter = new_df['main_meter'].mean()\n",
    "new_df.loc[(new_df.main_meter > 15000),'main_meter']=anomaly_mean_main_meter\n",
    "anomaly_mean_sub_meter_1 = new_df['sub_meter_1'].mean()\n",
    "new_df.loc[(new_df.sub_meter_1 > 5000),'sub_meter_1']=anomaly_mean_sub_meter_1\n",
    "anomaly_mean_sub_meter_2 = new_df['sub_meter_2'].mean()\n",
    "new_df.loc[(new_df.sub_meter_2 > 3000),'sub_meter_2']=anomaly_mean_sub_meter_2\n",
    "\n",
    "one_hot = ['day of week','building_number']\n",
    "new_df = pd.get_dummies(new_df,columns = one_hot)\n",
    "\n",
    "#Saving training file\n",
    "for i in range(1,6):\n",
    "    new_df[new_df['building_number_'+str(i)]==1].to_csv('./csv_files/intermediate_files/building_'+str(i)+'_train.csv')\n",
    "\n",
    "##Creating testing files\n",
    "\n",
    "for i in range(1,6):\n",
    "    if(i==1):\n",
    "        df_test = test[test['building_number']==1]\n",
    "        df_test.index = df_test['timestamp']\n",
    "        df_test = df_test.resample('1H').mean()\n",
    "        new_df_test = df_test\n",
    "    else:\n",
    "        df_test = test[test['building_number']==i]\n",
    "        df_test.index = df_test['timestamp']\n",
    "        df_test = df_test.resample('1H').mean()\n",
    "        new_df_test = pd.concat([new_df_test,df_test])\n",
    "\n",
    "#Adding new features\n",
    "new_df_test['main_meter'] = 'NaN'\n",
    "new_df_test['sub_meter_1'] = 'NaN'\n",
    "new_df_test['sub_meter_2'] = 'NaN'\n",
    "new_df_test['day of week']=new_df_test.index.dayofweek\n",
    "new_df_test['Hour']=new_df_test.index.hour\n",
    "new_df_test['corporate'] = new_df_test['Hour'].apply(lambda x: 0 if 0<= x <= 7 or 20<=x<=23 else 1)\n",
    "new_df_test = new_df_test.drop(['Hour'],axis=1)\n",
    "\n",
    "one_hot = ['day of week','building_number']\n",
    "new_df_test = pd.get_dummies(new_df_test,columns = one_hot)\n",
    "\n",
    "#Saving test file\n",
    "for i in range(1,6):\n",
    "    new_df_test[new_df_test['building_number_'+str(i)]==1].to_csv('./csv_files/intermediate_files/building_'+str(i)+'_test.csv')"
   ]
  },
  {
   "cell_type": "code",
   "execution_count": 57,
   "metadata": {},
   "outputs": [],
   "source": [
    "#Reading Files\n",
    "dataframe = pd.read_csv('csv_files/intermediate_files/building_'+str(index_reader)+'_train.csv')\n",
    "shape_old_dataframe = dataframe.shape[0]\n",
    "test_building = pd.read_csv('csv_files/intermediate_files/building_'+str(index_reader)+'_test.csv')\n",
    "test_for_index = pd.read_csv('./test.csv')"
   ]
  },
  {
   "cell_type": "code",
   "execution_count": 58,
   "metadata": {},
   "outputs": [],
   "source": [
    "#Preprocessing Dataframe\n",
    "dataframe['timestamp'] = pd.to_datetime(dataframe['timestamp'],infer_datetime_format=True)\n",
    "dataframe.set_index(dataframe['timestamp'],inplace=True)\n",
    "dataframe = dataframe.drop(['timestamp'],axis=1)\n",
    "\n",
    "test_building['timestamp'] = pd.to_datetime(test_building['timestamp'],infer_datetime_format=True)\n",
    "test_building.set_index(test_building['timestamp'],inplace=True)\n",
    "test_building = test_building.drop(['timestamp'],axis=1)\n",
    "\n",
    "using_columns = list(dataframe.columns)\n",
    "using_columns.remove('main_meter')\n",
    "using_columns.remove('sub_meter_1')\n",
    "using_columns.remove('sub_meter_2')\n",
    "\n",
    "#Preparing training data and testing data\n",
    "X_train = dataframe[using_columns]\n",
    "y_train = dataframe[meter_reading]\n",
    "\n",
    "X_test = dataframe[using_columns] "
   ]
  },
  {
   "cell_type": "code",
   "execution_count": null,
   "metadata": {},
   "outputs": [],
   "source": [
    "#Building the Model\n",
    "xgb_model = XGBRegressor(n_estimators=1000)\n",
    "\n",
    "#Fitting the model\n",
    "xgb_model.fit(X_train,y_train)"
   ]
  },
  {
   "cell_type": "code",
   "execution_count": null,
   "metadata": {},
   "outputs": [],
   "source": [
    "#Predicting the values\n",
    "xgb_predictions = xgb_model.predict(X_test)\n",
    "xgb_predictions = np.repeat(xgb_predictions,4,axis=0)\n",
    "xgb_predictions = pd.DataFrame(xgb_predictions)\n",
    "xgb_predictions.columns = [meter_reading]\n",
    "test_for_index = test_for_index[test_for_index['building_number']==index_reader]\n",
    "xgb_predictions = xgb_predictions.iloc[:test_for_index.shape[0],:]\n",
    "xgb_predictions.index = test_for_index['timestamp']"
   ]
  },
  {
   "cell_type": "code",
   "execution_count": null,
   "metadata": {},
   "outputs": [],
   "source": [
    "#Saving Dataframe into csv\n",
    "xgb_predictions.to_csv('csv_files/prediction_files/XGB/building_'+str(index_reader)+'_'+str(meter_reading)+'_xgb_predictions.csv')"
   ]
  },
  {
   "cell_type": "markdown",
   "metadata": {},
   "source": [
    "# Compiling Meter predictions for a Building"
   ]
  },
  {
   "cell_type": "code",
   "execution_count": null,
   "metadata": {},
   "outputs": [],
   "source": [
    "####Chunk of code for saving 3meter predictions for arima(Run this only after running all meters for a building)\n",
    "#Input variable\n",
    "index_reader = 1\n",
    "\n",
    "main_meter = pd.read_csv('csv_files/prediction_files/XGB/building_'+str(index_reader)+'_'+'main_meter'+'_xgb_predictions.csv')\n",
    "final_index = main_meter['timestamp']\n",
    "main_meter = main_meter.drop(['timestamp'],axis=1)\n",
    "sub_meter_1 = pd.read_csv('csv_files/prediction_files/XGB/building_'+str(index_reader)+'_'+'sub_meter_1'+'_xgb_predictions.csv')\n",
    "sub_meter_1 = sub_meter_1.drop(['timestamp'],axis=1)\n",
    "sub_meter_2 = pd.read_csv('csv_files/prediction_files/XGB/building_'+str(index_reader)+'_'+'sub_meter_2'+'_xgb_predictions.csv')\n",
    "sub_meter_2 = sub_meter_2.drop(['timestamp'],axis=1)\n",
    "\n",
    "all_meter = pd.concat([main_meter,sub_meter_1,sub_meter_2],axis=1)\n",
    "all_meter.index = final_index\n",
    "\n",
    "#Saving Dataframe into csv\n",
    "all_meter.to_csv('csv_files/prediction_files/XGB/building_'+str(index_reader)+'_3meter_xgb_predictions.csv')"
   ]
  },
  {
   "cell_type": "code",
   "execution_count": null,
   "metadata": {},
   "outputs": [],
   "source": [
    "all_meter"
   ]
  }
 ],
 "metadata": {
  "kernelspec": {
   "display_name": "Python 3",
   "language": "python",
   "name": "python3"
  },
  "language_info": {
   "codemirror_mode": {
    "name": "ipython",
    "version": 3
   },
   "file_extension": ".py",
   "mimetype": "text/x-python",
   "name": "python",
   "nbconvert_exporter": "python",
   "pygments_lexer": "ipython3",
   "version": "3.7.4"
  }
 },
 "nbformat": 4,
 "nbformat_minor": 2
}
